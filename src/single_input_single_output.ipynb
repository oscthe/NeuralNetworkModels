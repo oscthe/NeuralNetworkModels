{
 "cells": [
  {
   "cell_type": "code",
   "execution_count": null,
   "metadata": {},
   "outputs": [],
   "source": [
    "import numpy as np\n",
    "\n",
    "input = 2\n",
    "y = 0.8\n",
    "weight = 0.5\n",
    "alpha = 0.1\n",
    "\n",
    "def calc_error(goal_pred, input, weight):\n",
    "    pred = input * weight\n",
    "    error = pred - goal_pred\n",
    "    return pred, error, error ** 2"
   ]
  },
  {
   "cell_type": "code",
   "execution_count": null,
   "metadata": {},
   "outputs": [],
   "source": [
    "for x in range(20):\n",
    "    pred, error, MSE = calc_error(y, input, weight)\n",
    "    weight_scale = error * input\n",
    "    weight = weight - weight_scale * alpha\n",
    "    print(f\"Error: {MSE}, Prediction: {pred}\")"
   ]
  }
 ],
 "metadata": {
  "kernelspec": {
   "display_name": "Python 3.7.4 ('base')",
   "language": "python",
   "name": "python3"
  },
  "language_info": {
   "codemirror_mode": {
    "name": "ipython",
    "version": 3
   },
   "file_extension": ".py",
   "mimetype": "text/x-python",
   "name": "python",
   "nbconvert_exporter": "python",
   "pygments_lexer": "ipython3",
   "version": "3.7.4"
  },
  "orig_nbformat": 4,
  "vscode": {
   "interpreter": {
    "hash": "0d71906e98d8a48efe651bd3bc9549e1ad3b86d894d191acaed4eb8297587a9e"
   }
  }
 },
 "nbformat": 4,
 "nbformat_minor": 2
}
