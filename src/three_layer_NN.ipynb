{
 "cells": [
  {
   "cell_type": "code",
   "execution_count": null,
   "metadata": {},
   "outputs": [],
   "source": [
    "import numpy as np\n",
    "import matplotlib.pyplot as plt\n",
    "np.random.seed(1)"
   ]
  },
  {
   "cell_type": "markdown",
   "metadata": {},
   "source": [
    "### functions"
   ]
  },
  {
   "cell_type": "code",
   "execution_count": null,
   "metadata": {},
   "outputs": [],
   "source": [
    "def relu(x):\n",
    "    return (x > 0) * x\n",
    "\n",
    "def relu2derivative(output):\n",
    "    return output > 0"
   ]
  },
  {
   "cell_type": "markdown",
   "metadata": {},
   "source": [
    "### data"
   ]
  },
  {
   "cell_type": "code",
   "execution_count": null,
   "metadata": {},
   "outputs": [],
   "source": [
    "streetlights = np.array([[1, 0, 1],\n",
    "                         [0, 1, 1],\n",
    "                         [0, 0, 1],\n",
    "                         [1, 1, 1]])\n",
    "\n",
    "walk_vs_stop = np.array([[1, 1, 0, 0]]).T"
   ]
  },
  {
   "cell_type": "markdown",
   "metadata": {},
   "source": [
    "### constants"
   ]
  },
  {
   "cell_type": "code",
   "execution_count": null,
   "metadata": {},
   "outputs": [],
   "source": [
    "input_size = len(streetlights[0])\n",
    "output_size = len(walk_vs_stop[0])\n",
    "hidden_size = 2\n",
    "alpha = 0.01\n",
    "\n",
    "np.random.seed(1)\n",
    "weights_0_1 = 2*np.random.random((input_size, hidden_size)) - 1\n",
    "weights_1_2 = 2*np.random.random((hidden_size, hidden_size)) - 1\n",
    "weights_2_3 = 2*np.random.random((hidden_size, output_size)) - 1\n",
    "\n",
    "first_input = streetlights[0:1]\n",
    "first_ans = walk_vs_stop[0]"
   ]
  },
  {
   "cell_type": "markdown",
   "metadata": {},
   "source": [
    "### calculations"
   ]
  },
  {
   "cell_type": "code",
   "execution_count": null,
   "metadata": {},
   "outputs": [],
   "source": [
    "for y in range(100000):\n",
    "    tot_error = []\n",
    "    for x, _ in enumerate(streetlights):\n",
    "        pred_goal = walk_vs_stop[x]\n",
    "\n",
    "        layer_0 = streetlights[x:x+1]\n",
    "        layer_1 = relu(layer_0.dot(weights_0_1))\n",
    "        layer_2 = relu(layer_1.dot(weights_1_2))\n",
    "        layer_3 = layer_2.dot(weights_2_3)\n",
    "\n",
    "        error = (layer_3 - pred_goal) ** 2\n",
    "        delta = layer_3 - pred_goal\n",
    "        \n",
    "        tot_error.append(error)\n",
    "\n",
    "        weight_delta_2_3 = delta * layer_2\n",
    "        weights_2_3 -= (weight_delta_2_3 * alpha).T\n",
    "\n",
    "        weight_delta_1_2 = weight_delta_2_3 * layer_1\n",
    "        weights_1_2 -= weight_delta_1_2 * alpha\n",
    "\n",
    "        weight_delta_0_1 = weight_delta_1_2.T * layer_0\n",
    "        weights_0_1 -= (weight_delta_0_1 * alpha).T\n",
    "        \n",
    "    if y % 10000 == 0:    \n",
    "        print(f\"Error: {np.sum(tot_error)}\")"
   ]
  },
  {
   "cell_type": "code",
   "execution_count": null,
   "metadata": {},
   "outputs": [],
   "source": [
    "np.random.seed(1)\n",
    "weights_0_1 = 2*np.random.random((input_size, hidden_size)) - 1\n",
    "weights_1_2 = 2*np.random.random((hidden_size, hidden_size)) - 1\n",
    "weights_2_3 = 2*np.random.random((hidden_size, output_size)) - 1"
   ]
  },
  {
   "cell_type": "code",
   "execution_count": null,
   "metadata": {},
   "outputs": [],
   "source": [
    "error_rates1 = []\n",
    "for y in range(100000):\n",
    "    layer_3_error = 0\n",
    "    for x, _ in enumerate(streetlights):\n",
    "        pred_goal = walk_vs_stop[x]\n",
    "\n",
    "        layer_0 = streetlights[x:x+1]\n",
    "        layer_1 = relu(layer_0.dot(weights_0_1))\n",
    "        layer_2 = relu(layer_1.dot(weights_1_2))\n",
    "        layer_3 = layer_2.dot(weights_2_3)\n",
    "\n",
    "        error = (layer_3 - pred_goal) ** 2\n",
    "        delta = layer_3 - pred_goal\n",
    "        \n",
    "        layer_3_error += np.sum((layer_3 - walk_vs_stop[x:x+1]) ** 2)\n",
    "        \n",
    "        layer_3_delta = (layer_2 - walk_vs_stop[x:x+1])\n",
    "        layer_2_delta = layer_3_delta.dot(weights_2_3)*relu2derivative(layer_2)\n",
    "        layer_1_delta = layer_2_delta.dot(weights_1_2.T)*relu2derivative(layer_1)\n",
    "\n",
    "        weights_2_3 -= alpha * layer_2.T.dot(layer_3_delta)\n",
    "        weights_1_2 -= alpha * layer_1.T.dot(layer_2_delta)\n",
    "        weights_0_1 -= alpha * layer_0.T.dot(layer_1_delta)\n",
    "        \n",
    "    \n",
    "    # print(f\"Error: {np.mean(avg_error)}\")\n",
    "    if y % 10000 == 0:    \n",
    "        print(f\"Error: {layer_3_error}\")"
   ]
  },
  {
   "cell_type": "code",
   "execution_count": null,
   "metadata": {},
   "outputs": [],
   "source": []
  },
  {
   "cell_type": "code",
   "execution_count": null,
   "metadata": {},
   "outputs": [],
   "source": []
  },
  {
   "cell_type": "code",
   "execution_count": null,
   "metadata": {},
   "outputs": [],
   "source": []
  }
 ],
 "metadata": {
  "kernelspec": {
   "display_name": "Python 3.7.4 ('base')",
   "language": "python",
   "name": "python3"
  },
  "language_info": {
   "codemirror_mode": {
    "name": "ipython",
    "version": 3
   },
   "file_extension": ".py",
   "mimetype": "text/x-python",
   "name": "python",
   "nbconvert_exporter": "python",
   "pygments_lexer": "ipython3",
   "version": "3.7.4"
  },
  "orig_nbformat": 4,
  "vscode": {
   "interpreter": {
    "hash": "0d71906e98d8a48efe651bd3bc9549e1ad3b86d894d191acaed4eb8297587a9e"
   }
  }
 },
 "nbformat": 4,
 "nbformat_minor": 2
}
